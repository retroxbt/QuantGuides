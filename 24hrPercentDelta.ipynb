{
  "nbformat": 4,
  "nbformat_minor": 0,
  "metadata": {
    "colab": {
      "name": "DEFI1.0.ipynb",
      "provenance": []
    },
    "kernelspec": {
      "name": "python3",
      "display_name": "Python 3"
    },
    "language_info": {
      "name": "python"
    }
  },
  "cells": [
    {
      "cell_type": "code",
      "metadata": {
        "id": "BaF2aR1F-W5A"
      },
      "source": [
        "import requests\n",
        "import pandas as pd"
      ],
      "execution_count": 1,
      "outputs": []
    },
    {
      "cell_type": "code",
      "metadata": {
        "colab": {
          "base_uri": "https://localhost:8080/"
        },
        "id": "qCOe7wYk-dit",
        "outputId": "5603f5f5-1720-43b8-ed03-5aa6b2855d73"
      },
      "source": [
        "#Turns coinlist into url string to request multiple coins\n",
        "coins = [\"curve-dao-token\",\n",
        "         \"rune\",\n",
        "         \"the-graph\",\n",
        "         \"alpha-finance\",\n",
        "         \"yearn-finance\",\n",
        "         \"aave\",\n",
        "         \"kyber-network\",\n",
        "         \"uniswap\",\n",
        "         \"maker\",\n",
        "         \"sushi\",\n",
        "         \"snx\",\n",
        "         \"compound-governance-token\"]\n",
        "url = \"https://api.coingecko.com/api/v3/simple/price?ids=%2C\"\n",
        "url_end = \"&vs_currencies=usd&include_24hr_change=true\"\n",
        "\n",
        "for coin in coins:\n",
        "  url += coin + \"%2C\" #concatenates(adds) each coin in coins array to url with a separator\n",
        "  \n",
        "url += url_end #concatenates url_end to url\n",
        "print(url)\n",
        "\n",
        "result = (requests.get(url)).json() #data request\n",
        "print(result)"
      ],
      "execution_count": 2,
      "outputs": [
        {
          "output_type": "stream",
          "name": "stdout",
          "text": [
            "https://api.coingecko.com/api/v3/simple/price?ids=%2Ccurve-dao-token%2Crune%2Cthe-graph%2Calpha-finance%2Cyearn-finance%2Caave%2Ckyber-network%2Cuniswap%2Cmaker%2Csushi%2Csnx%2Ccompound-governance-token%2C&vs_currencies=usd&include_24hr_change=true\n",
            "{'yearn-finance': {'usd': 34224, 'usd_24h_change': -1.794712146820942}, 'curve-dao-token': {'usd': 4.18, 'usd_24h_change': -5.107982125430343}, 'kyber-network': {'usd': 1.87, 'usd_24h_change': -4.905164131170761}, 'sushi': {'usd': 11.23, 'usd_24h_change': -4.805183782282333}, 'aave': {'usd': 315.19, 'usd_24h_change': -6.014566086400993}, 'uniswap': {'usd': 25.54, 'usd_24h_change': -4.17220385179313}, 'alpha-finance': {'usd': 1.18, 'usd_24h_change': -1.4193145728508632}, 'compound-governance-token': {'usd': 338.72, 'usd_24h_change': -5.06986083625403}, 'the-graph': {'usd': 1.1, 'usd_24h_change': -6.848455385416523}, 'maker': {'usd': 3040.38, 'usd_24h_change': -3.2780107643375493}, 'rune': {'usd': 372.12, 'usd_24h_change': -4.742297130050229}}\n"
          ]
        }
      ]
    },
    {
      "cell_type": "code",
      "metadata": {
        "id": "kxYsKu0QAjo2",
        "colab": {
          "base_uri": "https://localhost:8080/",
          "height": 394
        },
        "outputId": "1e826d7b-1077-4e03-8ff6-374be42b4d80"
      },
      "source": [
        "df = pd.DataFrame.from_dict(result)\n",
        "df = df.transpose()\n",
        "df"
      ],
      "execution_count": 3,
      "outputs": [
        {
          "output_type": "execute_result",
          "data": {
            "text/html": [
              "<div>\n",
              "<style scoped>\n",
              "    .dataframe tbody tr th:only-of-type {\n",
              "        vertical-align: middle;\n",
              "    }\n",
              "\n",
              "    .dataframe tbody tr th {\n",
              "        vertical-align: top;\n",
              "    }\n",
              "\n",
              "    .dataframe thead th {\n",
              "        text-align: right;\n",
              "    }\n",
              "</style>\n",
              "<table border=\"1\" class=\"dataframe\">\n",
              "  <thead>\n",
              "    <tr style=\"text-align: right;\">\n",
              "      <th></th>\n",
              "      <th>usd</th>\n",
              "      <th>usd_24h_change</th>\n",
              "    </tr>\n",
              "  </thead>\n",
              "  <tbody>\n",
              "    <tr>\n",
              "      <th>yearn-finance</th>\n",
              "      <td>34224.00</td>\n",
              "      <td>-1.794712</td>\n",
              "    </tr>\n",
              "    <tr>\n",
              "      <th>curve-dao-token</th>\n",
              "      <td>4.18</td>\n",
              "      <td>-5.107982</td>\n",
              "    </tr>\n",
              "    <tr>\n",
              "      <th>kyber-network</th>\n",
              "      <td>1.87</td>\n",
              "      <td>-4.905164</td>\n",
              "    </tr>\n",
              "    <tr>\n",
              "      <th>sushi</th>\n",
              "      <td>11.23</td>\n",
              "      <td>-4.805184</td>\n",
              "    </tr>\n",
              "    <tr>\n",
              "      <th>aave</th>\n",
              "      <td>315.19</td>\n",
              "      <td>-6.014566</td>\n",
              "    </tr>\n",
              "    <tr>\n",
              "      <th>uniswap</th>\n",
              "      <td>25.54</td>\n",
              "      <td>-4.172204</td>\n",
              "    </tr>\n",
              "    <tr>\n",
              "      <th>alpha-finance</th>\n",
              "      <td>1.18</td>\n",
              "      <td>-1.419315</td>\n",
              "    </tr>\n",
              "    <tr>\n",
              "      <th>compound-governance-token</th>\n",
              "      <td>338.72</td>\n",
              "      <td>-5.069861</td>\n",
              "    </tr>\n",
              "    <tr>\n",
              "      <th>the-graph</th>\n",
              "      <td>1.10</td>\n",
              "      <td>-6.848455</td>\n",
              "    </tr>\n",
              "    <tr>\n",
              "      <th>maker</th>\n",
              "      <td>3040.38</td>\n",
              "      <td>-3.278011</td>\n",
              "    </tr>\n",
              "    <tr>\n",
              "      <th>rune</th>\n",
              "      <td>372.12</td>\n",
              "      <td>-4.742297</td>\n",
              "    </tr>\n",
              "  </tbody>\n",
              "</table>\n",
              "</div>"
            ],
            "text/plain": [
              "                                usd  usd_24h_change\n",
              "yearn-finance              34224.00       -1.794712\n",
              "curve-dao-token                4.18       -5.107982\n",
              "kyber-network                  1.87       -4.905164\n",
              "sushi                         11.23       -4.805184\n",
              "aave                         315.19       -6.014566\n",
              "uniswap                       25.54       -4.172204\n",
              "alpha-finance                  1.18       -1.419315\n",
              "compound-governance-token    338.72       -5.069861\n",
              "the-graph                      1.10       -6.848455\n",
              "maker                       3040.38       -3.278011\n",
              "rune                         372.12       -4.742297"
            ]
          },
          "metadata": {},
          "execution_count": 3
        }
      ]
    },
    {
      "cell_type": "code",
      "metadata": {
        "id": "TuCHI3JjAmVp",
        "colab": {
          "base_uri": "https://localhost:8080/",
          "height": 283
        },
        "outputId": "ae769d99-5de1-45e9-842d-106b36f821e3"
      },
      "source": [
        "df[\"usd_24h_change\"].plot(kind='barh', color='g')"
      ],
      "execution_count": 4,
      "outputs": [
        {
          "output_type": "execute_result",
          "data": {
            "text/plain": [
              "<matplotlib.axes._subplots.AxesSubplot at 0x7f3e568ea110>"
            ]
          },
          "metadata": {},
          "execution_count": 4
        },
        {
          "output_type": "display_data",
          "data": {
            "image/png": "[encoded data removed]",
            "text/plain": [
              "<Figure size 432x288 with 1 Axes>"
            ]
          },
          "metadata": {
            "needs_background": "light"
          }
        }
      ]
    },
    {
      "cell_type": "code",
      "metadata": {
        "id": "pi6dUtR0Apaq"
      },
      "source": [
        ""
      ],
      "execution_count": 4,
      "outputs": []
    }
  ]
}